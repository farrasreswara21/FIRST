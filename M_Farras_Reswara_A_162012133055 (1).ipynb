{
  "nbformat": 4,
  "nbformat_minor": 0,
  "metadata": {
    "colab": {
      "name": "M. Farras Reswara A_162012133055.ipynb",
      "provenance": []
    },
    "kernelspec": {
      "name": "python3",
      "display_name": "Python 3"
    }
  },
  "cells": [
    {
      "cell_type": "code",
      "metadata": {
        "colab": {
          "base_uri": "https://localhost:8080/"
        },
        "id": "NAq0iLc80tYK",
        "outputId": "781a353b-9c3a-4b5e-d053-5372f047a7d4"
      },
      "source": [
        "#1.      Buatlah program untuk permainan \"Gunting Batu Kertas\" dengan syarat berikut ini:\r\n",
        "\r\n",
        "#a)      Terdapat 2 orang pemain\r\n",
        "#b)      Setiap pemain dapat memilih gunting/batu/kertas secara bergantian\r\n",
        "#c)      Output berupa hasil permainan dengan status \"menang/kalah/seri\" dan dilengkapi ucapan \"Selamat <namapemain> Menang\"\r\n",
        "#d)      Jika permainan bernilai seri, maka pemain diharuskan untuk memilih gunting/batu/kertas lagi\r\n",
        "#e)      Jika permainan sudah selesai, maka diberikan opsi berupa pertanyaan apakah pemain ingin mengulangi game tersebut\r\n",
        "#f)       Jika pemain tidak ingin mengulangi game tersebut, maka program dinyatakan selesai\r\n",
        "player1 = input(\"input name 1: \")\r\n",
        "player2 =  input(\"input name 2: \")\r\n",
        "pemain1 = input(\"choose your weapon player 1: \")\r\n",
        "pemain2 = input(\"choose your weapon player 2: \")\r\n",
        "tools = [\"gunting\", \"batu\", \"kertas\"]\r\n",
        "result = [\"win\", \"lose\"]\r\n",
        "\r\n",
        "def main():\r\n",
        "  if pemain1 == tools[0] and pemain2 == tools[2]:\r\n",
        "    print(\"selamat\" ,player1, \"menang\")\r\n",
        "  elif pemain1 == tools[1] and pemain2 == tools[0]: \r\n",
        "    print(\"selamat\" ,player1, \"menang\")\r\n",
        "  elif pemain1 == tools[2] and pemain2 == tools[1]: \r\n",
        "    print(\"selamat\" ,player1, \"menang\")\r\n",
        "  if pemain2 == tools[0] and pemain1 == tools[2]:\r\n",
        "    print(\"selamat\" ,player2, \"menang\")\r\n",
        "  elif pemain2 == tools[1] and pemain1 == tools[0]: \r\n",
        "    print(\"selamat\" ,player2, \"menang\")\r\n",
        "  elif pemain2 == tools[2] and pemain1 == tools[1]: \r\n",
        "    print(\"selamat\" ,player2, \"menang\")\r\n",
        "  elif pemain1 == pemain2 :\r\n",
        "    print(\"ulang dari awal\")\r\n",
        "main()\r\n",
        "print()\r\n",
        "\r\n",
        "ask = int(input(\"mau main lagi?(0 = tidak, ya = 1): \"))\r\n",
        "\r\n",
        "if ask == 0 :\r\n",
        "  print(\"GAME SELESAI, TERIMA KASIH\")\r\n",
        "elif ask == 1 :\r\n",
        "  print(\"input lagi\")\r\n",
        "else : \r\n",
        "  print(\"error\")\r\n"
      ],
      "execution_count": 65,
      "outputs": [
        {
          "output_type": "stream",
          "text": [
            "input name 1: x\n",
            "input name 2: y\n",
            "choose your weapon player 1: gunting\n",
            "choose your weapon player 2: batu\n",
            "selamat y menang\n",
            "\n",
            "mau main lagi?(0 = tidak, ya = 1): 1\n",
            "selamat y menang\n"
          ],
          "name": "stdout"
        }
      ]
    },
    {
      "cell_type": "code",
      "metadata": {
        "id": "WixYnVlbbZB5"
      },
      "source": [
        ""
      ],
      "execution_count": null,
      "outputs": []
    },
    {
      "cell_type": "code",
      "metadata": {
        "colab": {
          "base_uri": "https://localhost:8080/"
        },
        "id": "vUILHYGnDEUA",
        "outputId": "a414cf5e-44d9-4080-bfd9-b5322906ed8f"
      },
      "source": [
        "#2.      Buatlah sebuah program untuk menampilkan bilangan (mulai dari 1 sampai dengan bilangan yang diinputkan) beserta hasil kuadratnya dengan syarat berikut ini:\r\n",
        "\r\n",
        "#a)      Jika inputan bernilai 0, maka munculkan pesan \"error\"\r\n",
        "#b)      Jika inputan bukan bertipe data number, maka munculkan pesan \"error\"\r\n",
        "#c)      Jika inputan bernilai negatif, maka hanya menampilkan inputan saja disertai hasil kuadratnya\r\n",
        "#min = int(input(\"beri angka minimum: \"))\r\n",
        "maks = int(input(\"beri angka maksimum: \"))\r\n",
        "\r\n",
        "if maks >= 0: \r\n",
        "  for i in range (maks +1):\r\n",
        "    if i == 0:\r\n",
        "      print(\"ERROR\")\r\n",
        "    else:\r\n",
        "      print(i**2)\r\n",
        "else : \r\n",
        "  print((maks*-1)**2)\r\n",
        "\r\n",
        "\r\n",
        "\r\n"
      ],
      "execution_count": 25,
      "outputs": [
        {
          "output_type": "stream",
          "text": [
            "beri angka maksimum: 0\n",
            "ERROR\n"
          ],
          "name": "stdout"
        }
      ]
    },
    {
      "cell_type": "code",
      "metadata": {
        "colab": {
          "base_uri": "https://localhost:8080/"
        },
        "id": "GMclAxkYN5_f",
        "outputId": "0882ff99-ab74-4dd4-f779-1c17a0ca8bad"
      },
      "source": [
        "#   Buatlah sebuah fungsi untuk mengkonversi nilai akhir dari mata kuliah yang diambil oleh mahasiswa ke dalam format alphabet. Syarat adalah sebagai berikut:\r\n",
        "#a)      Jika nilai lebih dari 75 dan maksimal nilai 100, maka mendapatkan nilai akhir A\r\n",
        "#b)      Jika nilai 66-75 maka mendapatkan nilai akhir B\r\n",
        "#c)      Jika nilai 56-65 maka mendapatkan nilai akhir C\r\n",
        "#d)      Jika nilai 46-55 maka mendapatkan nilai akhir D\r\n",
        "#e)      Jika nilai 0-45 maka mendapatkan nilai akhir E\r\n",
        "#f)       Jika nilai diluar dari syarat di atas, maka tampilkan pesan \"error\r\n",
        "\r\n",
        "nilai = int(input(\"score: \"))\r\n",
        "if nilai > 75 and nilai <= 100: \r\n",
        "  print(\"A\")\r\n",
        "elif nilai >= 66 :\r\n",
        "  print(\"B\")\r\n",
        "elif nilai >= 56 : \r\n",
        "  print(\"C\")\r\n",
        "elif nilai >= 46 : \r\n",
        "  print(\"D\")\r\n",
        "elif nilai >= 0 : \r\n",
        "  print(\"E\")\r\n",
        "else : \r\n",
        "  print(\"ERROR\")"
      ],
      "execution_count": 26,
      "outputs": [
        {
          "output_type": "stream",
          "text": [
            "score: 55\n",
            "D\n"
          ],
          "name": "stdout"
        }
      ]
    },
    {
      "cell_type": "code",
      "metadata": {
        "colab": {
          "base_uri": "https://localhost:8080/"
        },
        "id": "28uKQd7iDEah",
        "outputId": "52b09181-d2c5-4257-86c5-e135cf0ef968"
      },
      "source": [
        "#4.      Buatlah sebuah program untuk mencetak output sesuai dengan syarat di bawah ini:\r\n",
        "\r\n",
        "#a)      Input berupa angka/number dan harus bernilai lebih besar dari 0 serta merupakan bilangan positif, jika tidak maka tampilkan pesan \"error\"\r\n",
        "#b)      Input untuk memilih segitiga/persegi, diluar pilihan tersebut maka tampilkan pesan \"error\"\r\n",
        "#c)      Jika memilih segitiga maka output akan terlihat seperti di bawah ini :\r\n",
        "#- Input : 4\r\n",
        "#- Output :\r\n",
        "#d)      Jika memilih persegi maka output akan terlihat seperti di bawah ini :\r\n",
        "#- Input : 3\r\n",
        "#- Output :\r\n",
        "\r\n",
        "number = int(input(\"give a number: \"))\r\n",
        "shape  = input(\"choose your shape: \")\r\n",
        "bentuk = [\"segitiga\", \"persegi\"]\r\n",
        "if number <= 0 : \r\n",
        "  print(\"ERROR\")\r\n",
        "elif number > 0:\r\n",
        "  if shape == bentuk[0] : \r\n",
        "    for i in range (number):\r\n",
        "      for j in range (i+1): \r\n",
        "        print(\"*\", end=\"\")\r\n",
        "      print()\r\n",
        "  elif shape == bentuk[1] : \r\n",
        "    for i in range (number) : \r\n",
        "      for j in range (number) :\r\n",
        "        print(\"*\", end=\"\")\r\n",
        "      print()\r\n",
        "  else : \r\n",
        "    print(\"ERROR\") \r\n",
        "\r\n",
        "\r\n",
        "\r\n"
      ],
      "execution_count": 42,
      "outputs": [
        {
          "output_type": "stream",
          "text": [
            "give a number: 5\n",
            "choose your shape: segitiga\n",
            "*\n",
            "**\n",
            "***\n",
            "****\n",
            "*****\n"
          ],
          "name": "stdout"
        }
      ]
    }
  ]
}